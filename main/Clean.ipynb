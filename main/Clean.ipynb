{
 "cells": [
  {
   "cell_type": "code",
   "execution_count": 1,
   "id": "e2f22ce1-f010-40fe-a9fa-945f9e611ebf",
   "metadata": {},
   "outputs": [
    {
     "name": "stdout",
     "output_type": "stream",
     "text": [
      "0    83.866\n",
      "1    83.866\n",
      "2    84.590\n",
      "3    84.805\n",
      "4    84.603\n",
      "Name: Longitude, dtype: float64\n"
     ]
    }
   ],
   "source": [
    "# Longtitude data type transformation\n",
    "import pandas as pd\n",
    "# Read Excel file\n",
    "df = pd.read_excel('C:/Users/90553/Desktop/464/upload/Data_processed.xlsx')\n",
    "\n",
    "df['Longitude'] = pd.to_numeric(df['Longitude'], errors='coerce')\n",
    "\n",
    "# Maintaining control\n",
    "print(df['Longitude'].head())\n",
    "\n",
    "# Save in excel file\n",
    "df.to_excel('C:/Users/90553/Desktop/data_1.xlsx', index=False)"
   ]
  },
  {
   "cell_type": "code",
   "execution_count": 2,
   "id": "91025148-39aa-47a4-8d10-fe56a3e38b71",
   "metadata": {},
   "outputs": [
    {
     "name": "stdout",
     "output_type": "stream",
     "text": [
      "Mode imputation was successfully applied for the first 84 columns and after the 102nd column and the file was saved: 'data_2.xlsx'\n"
     ]
    }
   ],
   "source": [
    "import pandas as pd\n",
    "\n",
    "# Read excel file\n",
    "df = pd.read_excel('C:/Users/90553/Desktop/data_1.xlsx')\n",
    "\n",
    "# Apply mode imputation for both the first 84 columns and the 102nd column and beyond\n",
    "for i, column in enumerate(df.columns):\n",
    "    if i < 84 or i >= 101:  # First 84 columns and 102nd column (index 101) and onwards\n",
    "        mode_value = df[column].mode()[0]  # Get the mode of the column\n",
    "        df[column] = df[column].fillna(mode_value)  # Fill missing values ​​with mod\n",
    "\n",
    "# Save in excel file\n",
    "df.to_excel('C:/Users/90553/Desktop/data_2.xlsx', index=False)\n",
    "\n",
    "print(\"Mode imputation was successfully applied for the first 84 columns and after the 102nd column and the file was saved: 'data_2.xlsx'\")"
   ]
  },
  {
   "cell_type": "code",
   "execution_count": 3,
   "id": "b97dd211-d5fa-47d6-b98b-0d7e3d19fb8f",
   "metadata": {},
   "outputs": [
    {
     "name": "stdout",
     "output_type": "stream",
     "text": [
      "Mode and KNN imputation were applied successfully and the file was saved: 'data_3.xlsx'\n"
     ]
    }
   ],
   "source": [
    "import pandas as pd\n",
    "from sklearn.impute import KNNImputer\n",
    "\n",
    "# Read Excel file\n",
    "df = pd.read_excel('C:/Users/90553/Desktop/data_2.xlsx')\n",
    "\n",
    "# Identify columns 85-101\n",
    "columns_85_to_101 = df.columns[84:101]  # Columns 85-101\n",
    "mode_columns = [96, 97, 101]  # Columns to apply mode imputation\n",
    "knn_columns = [col for i, col in enumerate(columns_85_to_101) if i + 85 not in mode_columns]  # Other columns (to be applied KNN)\n",
    "\n",
    "# Mode imputation (columns 96, 97, 101)\n",
    "for column in df.columns[mode_columns]:\n",
    "    mode_value = df[column].mode()[0]\n",
    "    df[column] = df[column].fillna(mode_value)\n",
    "\n",
    "# KNN imputation (including remaining columns, 98 and 99)\n",
    "knn_imputer = KNNImputer(n_neighbors=5)\n",
    "df_knn = df[knn_columns]  # Only columns to which KNN will be applied\n",
    "df_knn_imputed = pd.DataFrame(knn_imputer.fit_transform(df_knn), columns=knn_columns)\n",
    "\n",
    "# Add updated columns to original DataFrame\n",
    "df.update(df_knn_imputed)\n",
    "\n",
    "# Save updated file\n",
    "df.to_excel('C:/Users/90553/Desktop/data_3.xlsx', index=False)\n",
    "\n",
    "print(\"Mode and KNN imputation were applied successfully and the file was saved: 'data_3.xlsx'\")"
   ]
  },
  {
   "cell_type": "code",
   "execution_count": 4,
   "id": "00b7e0b8-99ce-4e95-b87f-b7028f87f8eb",
   "metadata": {},
   "outputs": [
    {
     "name": "stdout",
     "output_type": "stream",
     "text": [
      "Outlier detection completed. 75 the row was determined as outlier and the cleaned data was saved.\n"
     ]
    }
   ],
   "source": [
    "import pandas as pd\n",
    "from sklearn.ensemble import IsolationForest\n",
    "\n",
    "# Read Excel file\n",
    "df = pd.read_excel('C:/Users/90553/Desktop/data_3.xlsx')\n",
    "\n",
    "# Select only numeric columns\n",
    "numeric_df = df.select_dtypes(include=['float64', 'int64'])\n",
    "\n",
    "# Create the Isolation Forest model\n",
    "iso_forest = IsolationForest(contamination=0.05, random_state=42)\n",
    "iso_forest.fit(numeric_df)\n",
    "\n",
    "# Calculate Outlier scores\n",
    "df['outlier_score'] = iso_forest.decision_function(numeric_df)\n",
    "\n",
    "# Set Outlier tags (-1: Outlier, 1: Normal)\n",
    "df['outlier_label'] = iso_forest.predict(numeric_df)\n",
    "\n",
    "# Set Outlier score threshold (example: -0.1)\n",
    "threshold = -0.0184\n",
    "\n",
    "# Detect rows that are outliers based on score threshold value\n",
    "df_outliers = df[df['outlier_score'] < threshold]\n",
    "\n",
    "# Filter non-outlier rows\n",
    "df_cleaned = df[df['outlier_score'] >= threshold]\n",
    "\n",
    "# Save outliers and cleared data\n",
    "df_outliers.to_excel('C:/Users/90553/Desktop/outliers.xlsx', index=False)\n",
    "df_cleaned.to_excel('C:/Users/90553/Desktop/data_4.xlsx', index=False)\n",
    "\n",
    "print(f\"Outlier detection completed. {len(df_outliers)} the row was determined as outlier and the cleaned data was saved.\")"
   ]
  },
  {
   "cell_type": "code",
   "execution_count": null,
   "id": "fa3b4361-42f3-45e4-bbed-3b1df5a8a77b",
   "metadata": {},
   "outputs": [],
   "source": []
  }
 ],
 "metadata": {
  "kernelspec": {
   "display_name": "Python 3 (ipykernel)",
   "language": "python",
   "name": "python3"
  },
  "language_info": {
   "codemirror_mode": {
    "name": "ipython",
    "version": 3
   },
   "file_extension": ".py",
   "mimetype": "text/x-python",
   "name": "python",
   "nbconvert_exporter": "python",
   "pygments_lexer": "ipython3",
   "version": "3.12.3"
  }
 },
 "nbformat": 4,
 "nbformat_minor": 5
}
